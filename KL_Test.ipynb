{
 "cells": [
  {
   "cell_type": "code",
   "execution_count": 1,
   "metadata": {},
   "outputs": [
    {
     "name": "stdout",
     "output_type": "stream",
     "text": [
      "dict_keys(['__header__', '__version__', '__globals__', 'xAmp', 'xLabel', 'xPha', 'xRaw'])\n"
     ]
    }
   ],
   "source": [
    "import scipy.io\n",
    "data = scipy.io.loadmat('xTrain.mat')\n",
    "print(data.keys())\n",
    "xAmp = data['xAmp']\n",
    "# print(xAmp)\n",
    "# scipy.io.savemat('xAmpKL.mat',{'xAmp':xAmp})"
   ]
  },
  {
   "cell_type": "code",
   "execution_count": 5,
   "metadata": {
    "scrolled": true
   },
   "outputs": [],
   "source": [
    "from hpelm.elm import ELM\n",
    "import scipy.io as sio\n",
    "import pandas as pd\n",
    "import numpy as np\n",
    "import matplotlib.pyplot as plt\n",
    "from sklearn.decomposition import PCA\n",
    "from sklearn.preprocessing import StandardScaler\n",
    "from sklearn.model_selection import KFold\n",
    "from sklearn.model_selection import StratifiedKFold\n",
    "from sklearn.model_selection import GroupKFold\n",
    "from sklearn.preprocessing import MinMaxScaler\n",
    "import itertools\n",
    "from sklearn.svm import SVR\n",
    "from sklearn.neighbors import KNeighborsRegressor\n",
    "from sklearn.model_selection import GridSearchCV\n",
    "from sklearn.metrics import mean_squared_error\n",
    "from sklearn.cluster import DBSCAN\n",
    "from sklearn.preprocessing import OneHotEncoder\n",
    "from functools import reduce\n",
    "from scipy import signal\n",
    "from sklearn.metrics import confusion_matrix\n",
    "import datetime\n",
    "import h5py\n",
    "\n",
    "from sklearn.ensemble import RandomForestClassifier\n",
    "import numpy as np\n",
    "import matplotlib.pyplot as plt \n",
    "import mpl_toolkits.mplot3d\n",
    "from sklearn.mixture import GaussianMixture\n",
    "\n",
    "def KL_divergence(gmm1,gmm2):\n",
    "    cov1=np.sqrt(gmm1.covariances_[0,:,:])\n",
    "    cov2=np.sqrt(gmm2.covariances_[0,:,:])\n",
    "    mean1=gmm1.means_\n",
    "    mean2=gmm2.means_\n",
    "    term1=np.log(np.linalg.det(cov1)/np.linalg.det(cov2))\n",
    "    term2=np.trace(np.matmul(np.linalg.inv(cov1),cov2))-30\n",
    "    term3=np.matmul(np.matmul(mean2-mean1,np.linalg.inv(cov1)),np.transpose(mean2-mean1))\n",
    "    term_1=(term1+term2+term3)/2\n",
    "    \n",
    "    cov1=np.sqrt(gmm2.covariances_[0,:,:])\n",
    "    cov2=np.sqrt(gmm1.covariances_[0,:,:])\n",
    "    mean1=gmm2.means_\n",
    "    mean2=gmm1.means_\n",
    "    term1=np.log(np.linalg.det(cov1)/np.linalg.det(cov2))\n",
    "    term2=np.trace(np.matmul(np.linalg.inv(cov1),cov2))-30\n",
    "    term3=np.matmul(np.matmul(mean2-mean1,np.linalg.inv(cov1)),np.transpose(mean2-mean1))\n",
    "    term_2=(term1+term2+term3)/2\n",
    "    \n",
    "    return term_1+term_2"
   ]
  },
  {
   "cell_type": "code",
   "execution_count": 7,
   "metadata": {},
   "outputs": [
    {
     "name": "stdout",
     "output_type": "stream",
     "text": [
      "[6, 9, 2, 3, 8, 5, 6, 6, 2, 1]\n",
      "48\n",
      "[0.125      0.1875     0.04166667 0.0625     0.16666667 0.10416667\n",
      " 0.125      0.125      0.04166667 0.02083333]\n",
      "[3, 8, 7, 7, 2, 9, 10, 2, 1, 9]\n",
      "58\n",
      "[0.05172414 0.13793103 0.12068966 0.12068966 0.03448276 0.15517241\n",
      " 0.17241379 0.03448276 0.01724138 0.15517241]\n",
      "0.4192153793001886\n",
      "0.4192153793001886\n"
     ]
    },
    {
     "data": {
      "text/plain": [
       "(array([1., 2., 1., 0., 0., 0., 2., 1., 2., 1.]),\n",
       " array([ 1. ,  1.9,  2.8,  3.7,  4.6,  5.5,  6.4,  7.3,  8.2,  9.1, 10. ]),\n",
       " <BarContainer object of 10 artists>)"
      ]
     },
     "execution_count": 7,
     "metadata": {},
     "output_type": "execute_result"
    },
    {
     "data": {
      "image/png": "[encoded data removed]",
      "text/plain": [
       "<Figure size 432x288 with 2 Axes>"
      ]
     },
     "metadata": {
      "needs_background": "light"
     },
     "output_type": "display_data"
    }
   ],
   "source": [
    "import numpy as np\n",
    "import scipy.stats\n",
    "import matplotlib.pyplot as plt\n",
    "# 随机生成两个离散型分布\n",
    "x = [np.random.randint(1, 11) for i in range(10)]\n",
    "print(x)\n",
    "print(np.sum(x))\n",
    "px = x / np.sum(x)\n",
    "print(px)\n",
    "y = [np.random.randint(1, 11) for i in range(10)]\n",
    "print(y)\n",
    "print(np.sum(y))\n",
    "py = y / np.sum(y)\n",
    "print(py)\n",
    "\n",
    "# 利用scipy API进行计算\n",
    "# scipy计算函数可以处理非归一化情况，因此这里使用\n",
    "# scipy.stats.entropy(x, y)或scipy.stats.entropy(px, py)均可\n",
    "KL = scipy.stats.entropy(x, y) \n",
    "print(KL)\n",
    "\n",
    "# 编程实现\n",
    "KL = 0.0\n",
    "for i in range(10):\n",
    "    KL += px[i] * np.log(px[i] / py[i])\n",
    "    # print(str(px[i]) + ' ' + str(py[i]) + ' ' + str(px[i] * np.log(px[i] / py[i])))\n",
    "\n",
    "print(KL)\n",
    "\n",
    "plt.subplot(121)\n",
    "plt.hist(x)\n",
    "plt.subplot(122)\n",
    "plt.hist(y)"
   ]
  }
 ],
 "metadata": {
  "kernelspec": {
   "display_name": "Python 3",
   "language": "python",
   "name": "python3"
  },
  "language_info": {
   "codemirror_mode": {
    "name": "ipython",
    "version": 3
   },
   "file_extension": ".py",
   "mimetype": "text/x-python",
   "name": "python",
   "nbconvert_exporter": "python",
   "pygments_lexer": "ipython3",
   "version": "3.6.9"
  }
 },
 "nbformat": 4,
 "nbformat_minor": 2
}
