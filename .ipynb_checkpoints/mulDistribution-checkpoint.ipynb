{
 "cells": [
  {
   "cell_type": "code",
   "execution_count": 37,
   "metadata": {},
   "outputs": [
    {
     "name": "stdout",
     "output_type": "stream",
     "text": [
      "[[ 2.    3.    5.   14.   16.   15.   12.    8.   10.    8.    7.  ]\n",
      " [ 0.02  0.03  0.05  0.14  0.16  0.15  0.12  0.08  0.1   0.08  0.07]]\n",
      "100.0 1.0\n"
     ]
    }
   ],
   "source": [
    "# 案例参考https://zhuanlan.zhihu.com/p/37452654\n",
    "import numpy as np\n",
    "import scipy.stats as stats\n",
    "from scipy.stats import binom\n",
    "from scipy.stats import uniform\n",
    "import matplotlib.pyplot as plt\n",
    "\n",
    "# 对应于人体0~10 共11颗牙齿分布对应的蜱虫数量和概率\n",
    "num = 11\n",
    "x =  np.array([[2,3,5,14,16,15,12,8,10,8,7],[0.02,0.03,0.05,0.14,0.16,0.15,0.12,0.08,0.1,0.08,0.07]])\n",
    "print(x)\n",
    "print(x[0,:].sum(),x[1,:].sum())"
   ]
  },
  {
   "cell_type": "code",
   "execution_count": 38,
   "metadata": {},
   "outputs": [
    {
     "name": "stderr",
     "output_type": "stream",
     "text": [
      "/usr/local/lib/python3.6/dist-packages/matplotlib/backends/backend_agg.py:238: RuntimeWarning: Glyph 34609 missing from current font.\n",
      "  font.set_text(s, 0.0, flags=flags)\n",
      "/usr/local/lib/python3.6/dist-packages/matplotlib/backends/backend_agg.py:238: RuntimeWarning: Glyph 34411 missing from current font.\n",
      "  font.set_text(s, 0.0, flags=flags)\n",
      "/usr/local/lib/python3.6/dist-packages/matplotlib/backends/backend_agg.py:238: RuntimeWarning: Glyph 27010 missing from current font.\n",
      "  font.set_text(s, 0.0, flags=flags)\n",
      "/usr/local/lib/python3.6/dist-packages/matplotlib/backends/backend_agg.py:238: RuntimeWarning: Glyph 29575 missing from current font.\n",
      "  font.set_text(s, 0.0, flags=flags)\n",
      "/usr/local/lib/python3.6/dist-packages/matplotlib/backends/backend_agg.py:201: RuntimeWarning: Glyph 34609 missing from current font.\n",
      "  font.set_text(s, 0, flags=flags)\n",
      "/usr/local/lib/python3.6/dist-packages/matplotlib/backends/backend_agg.py:201: RuntimeWarning: Glyph 34411 missing from current font.\n",
      "  font.set_text(s, 0, flags=flags)\n",
      "/usr/local/lib/python3.6/dist-packages/matplotlib/backends/backend_agg.py:201: RuntimeWarning: Glyph 27010 missing from current font.\n",
      "  font.set_text(s, 0, flags=flags)\n",
      "/usr/local/lib/python3.6/dist-packages/matplotlib/backends/backend_agg.py:201: RuntimeWarning: Glyph 29575 missing from current font.\n",
      "  font.set_text(s, 0, flags=flags)\n"
     ]
    },
    {
     "data": {
      "image/png": "[encoded data removed]",
      "text/plain": [
       "<Figure size 432x288 with 1 Axes>"
      ]
     },
     "metadata": {
      "needs_background": "light"
     },
     "output_type": "display_data"
    }
   ],
   "source": [
    "plt.bar(np.arange(num),x[1,:])\n",
    "\n",
    "# plt.legend()b\n",
    "plt.xlabel('number of teeth')\n",
    "plt.xlabel('蜱虫概率')\n",
    "plt.show()"
   ]
  },
  {
   "cell_type": "code",
   "execution_count": 49,
   "metadata": {
    "scrolled": true
   },
   "outputs": [
    {
     "name": "stdout",
     "output_type": "stream",
     "text": [
      "[ 0.11   1.188  2.266  3.344  4.422  5.5    6.578  7.656  8.734  9.812\n",
      " 10.89 ]\n"
     ]
    },
    {
     "data": {
      "image/png": "[encoded data removed]",
      "text/plain": [
       "<Figure size 432x288 with 1 Axes>"
      ]
     },
     "metadata": {
      "needs_background": "light"
     },
     "output_type": "display_data"
    }
   ],
   "source": [
    "#使用均匀分布建模\n",
    "# 手动建模\n",
    "# p1 = 1/num * np.ones(num)\n",
    "# plt.bar(np.arange(num)+0.5,p1,width = 0.4)\n",
    "\n",
    "# 使用函数建模\n",
    "loc = 0\n",
    "scale = 11\n",
    "#ppf:累积分布函数的反函数。q=0.01时，ppf就是p(X<x)=0.01时的x值。\n",
    "x1 = np.linspace(uniform.ppf(0.01,loc,scale),uniform.ppf(0.99,loc,scale),11)\n",
    "print(x1)\n",
    "# plt.plot(x, uniform.pdf(x,loc,scale),'o',label = 'uniform')\n",
    "# plt.title(u'均匀分布概率密度函数')\n",
    "\n",
    "plt.bar(np.arange(num)+0.5,uniform.pdf(x1,loc,scale),width = 0.4)\n",
    "plt.bar(np.arange(num),x[1,:],width = 0.4)\n",
    "plt.show()"
   ]
  },
  {
   "cell_type": "code",
   "execution_count": 16,
   "metadata": {},
   "outputs": [
    {
     "name": "stdout",
     "output_type": "stream",
     "text": [
      "0.544\n"
     ]
    }
   ],
   "source": [
    "#使用二项分布建模\n",
    "# 二项分布 E=np, D = np(1-p) \n",
    "# 本例中n指的是最大牙齿数，所以为10\n",
    "# 先通过实际数据算出均值，进而求出概率p\n",
    "mean2 = np.inner(np.arange(11),x[1,:]);\n",
    "# print(mean2)\n",
    "p2 = mean2 / (num-1)\n",
    "print(p2)\n"
   ]
  },
  {
   "cell_type": "code",
   "execution_count": 20,
   "metadata": {},
   "outputs": [
    {
     "name": "stdout",
     "output_type": "stream",
     "text": [
      "[2.82475249e-02 1.21060821e-01 2.33474440e-01 2.66827932e-01\n",
      " 2.00120949e-01 1.02919345e-01 3.67569090e-02 9.00169200e-03\n",
      " 1.44670050e-03 1.37781000e-04 5.90490000e-06 0.00000000e+00\n",
      " 0.00000000e+00 0.00000000e+00 0.00000000e+00 0.00000000e+00\n",
      " 0.00000000e+00 0.00000000e+00 0.00000000e+00 0.00000000e+00\n",
      " 0.00000000e+00 0.00000000e+00 0.00000000e+00 0.00000000e+00\n",
      " 0.00000000e+00 0.00000000e+00 0.00000000e+00 0.00000000e+00\n",
      " 0.00000000e+00 0.00000000e+00]\n"
     ]
    },
    {
     "data": {
      "image/png": "[encoded data removed]",
      "text/plain": [
       "<Figure size 432x288 with 2 Axes>"
      ]
     },
     "metadata": {
      "needs_background": "light"
     },
     "output_type": "display_data"
    }
   ],
   "source": [
    "plt.subplot(121)\n",
    "n =  10\n",
    "p=0.3\n",
    "k=np.arange(0,30)\n",
    "\n",
    "binomial=stats.binom.pmf(k,n,p)\n",
    "\n",
    "plt.plot(k,binomial,'o-')\n",
    "\n",
    "#使用rvs函数模拟一个二项随机变量，其中参数size指定你要进行模拟的次数，这里为10000次。\n",
    "\n",
    "plt.subplot(122)\n",
    "\n",
    "binom_sim=data=stats.binom.rvs(n=10,p=0.3,size=1)\n",
    "\n",
    "print(binomial)\n",
    "# print('Mean:',np.mean(binom_sim))\n",
    "\n",
    "# print('Sd:',np.std(binom_sim,ddof=1))\n",
    "\n",
    "# plt.hist(binom_sim,bins=10,normed=True)\n",
    "\n",
    "# plt.show()"
   ]
  },
  {
   "cell_type": "code",
   "execution_count": null,
   "metadata": {},
   "outputs": [],
   "source": [
    "print(k)"
   ]
  }
 ],
 "metadata": {
  "kernelspec": {
   "display_name": "Python 3",
   "language": "python",
   "name": "python3"
  },
  "language_info": {
   "codemirror_mode": {
    "name": "ipython",
    "version": 3
   },
   "file_extension": ".py",
   "mimetype": "text/x-python",
   "name": "python",
   "nbconvert_exporter": "python",
   "pygments_lexer": "ipython3",
   "version": "3.6.9"
  }
 },
 "nbformat": 4,
 "nbformat_minor": 2
}
