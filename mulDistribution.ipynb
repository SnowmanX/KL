{
 "cells": [
  {
   "cell_type": "code",
   "execution_count": 2,
   "metadata": {
    "scrolled": true
   },
   "outputs": [
    {
     "name": "stdout",
     "output_type": "stream",
     "text": [
      "[[ 2.    3.    5.   14.   16.   15.   12.    8.   10.    8.    7.  ]\n",
      " [ 0.02  0.03  0.05  0.14  0.16  0.15  0.12  0.08  0.1   0.08  0.07]]\n",
      "100.0 1.0\n"
     ]
    }
   ],
   "source": [
    "# 案例参考https://zhuanlan.zhihu.com/p/37452654\n",
    "import numpy as np\n",
    "import scipy.stats as stats\n",
    "from scipy.stats import binom\n",
    "from scipy.stats import uniform\n",
    "import matplotlib.pyplot as plt\n",
    "\n",
    "# 对应于人体0~10 共11颗牙齿分布对应的蜱虫数量和概率\n",
    "num = 11\n",
    "x =  np.array([[2,3,5,14,16,15,12,8,10,8,7],[0.02,0.03,0.05,0.14,0.16,0.15,0.12,0.08,0.1,0.08,0.07]])\n",
    "p = x[1,:]\n",
    "print(x)\n",
    "print(x[0,:].sum(),x[1,:].sum())"
   ]
  },
  {
   "cell_type": "code",
   "execution_count": 3,
   "metadata": {},
   "outputs": [
    {
     "name": "stderr",
     "output_type": "stream",
     "text": [
      "/usr/local/lib/python3.6/dist-packages/matplotlib/backends/backend_agg.py:238: RuntimeWarning: Glyph 34609 missing from current font.\n",
      "  font.set_text(s, 0.0, flags=flags)\n",
      "/usr/local/lib/python3.6/dist-packages/matplotlib/backends/backend_agg.py:238: RuntimeWarning: Glyph 34411 missing from current font.\n",
      "  font.set_text(s, 0.0, flags=flags)\n",
      "/usr/local/lib/python3.6/dist-packages/matplotlib/backends/backend_agg.py:238: RuntimeWarning: Glyph 27010 missing from current font.\n",
      "  font.set_text(s, 0.0, flags=flags)\n",
      "/usr/local/lib/python3.6/dist-packages/matplotlib/backends/backend_agg.py:238: RuntimeWarning: Glyph 29575 missing from current font.\n",
      "  font.set_text(s, 0.0, flags=flags)\n",
      "/usr/local/lib/python3.6/dist-packages/matplotlib/backends/backend_agg.py:201: RuntimeWarning: Glyph 34609 missing from current font.\n",
      "  font.set_text(s, 0, flags=flags)\n",
      "/usr/local/lib/python3.6/dist-packages/matplotlib/backends/backend_agg.py:201: RuntimeWarning: Glyph 34411 missing from current font.\n",
      "  font.set_text(s, 0, flags=flags)\n",
      "/usr/local/lib/python3.6/dist-packages/matplotlib/backends/backend_agg.py:201: RuntimeWarning: Glyph 27010 missing from current font.\n",
      "  font.set_text(s, 0, flags=flags)\n",
      "/usr/local/lib/python3.6/dist-packages/matplotlib/backends/backend_agg.py:201: RuntimeWarning: Glyph 29575 missing from current font.\n",
      "  font.set_text(s, 0, flags=flags)\n"
     ]
    },
    {
     "data": {
      "image/png": "[encoded data removed]",
      "text/plain": [
       "<Figure size 432x288 with 1 Axes>"
      ]
     },
     "metadata": {
      "needs_background": "light"
     },
     "output_type": "display_data"
    }
   ],
   "source": [
    "plt.bar(np.arange(num),x[1,:])\n",
    "\n",
    "# plt.legend()b\n",
    "plt.xlabel('number of teeth')\n",
    "plt.xlabel('蜱虫概率')\n",
    "plt.show()"
   ]
  },
  {
   "cell_type": "code",
   "execution_count": 4,
   "metadata": {
    "scrolled": false
   },
   "outputs": [
    {
     "name": "stdout",
     "output_type": "stream",
     "text": [
      "[ 0.   1.1  2.2  3.3  4.4  5.5  6.6  7.7  8.8  9.9 11. ]\n",
      "[0.09090909 0.09090909 0.09090909 0.09090909 0.09090909 0.09090909\n",
      " 0.09090909 0.09090909 0.09090909 0.09090909 0.09090909]\n"
     ]
    },
    {
     "data": {
      "image/png": "[encoded data removed]",
      "text/plain": [
       "<Figure size 432x288 with 1 Axes>"
      ]
     },
     "metadata": {
      "needs_background": "light"
     },
     "output_type": "display_data"
    }
   ],
   "source": [
    "#使用均匀分布建模\n",
    "# 手动建模\n",
    "# p1 = 1/num * np.ones(num)\n",
    "# plt.bar(np.arange(num)+0.5,p1,width = 0.4)\n",
    "\n",
    "# 使用函数建模\n",
    "loc = 0\n",
    "scale = 11\n",
    "#ppf:累积分布函数的反函数。q=0.01时，ppf就是p(X<x)=0.01时的x值。\n",
    "x1 = np.linspace(uniform.ppf(0.0,loc,scale),uniform.ppf(1,loc,scale),11)\n",
    "print(x1)\n",
    "# plt.plot(x, uniform.pdf(x,loc,scale),'o',label = 'uniform')\n",
    "# plt.title(u'均匀分布概率密度函数')\n",
    "p1 = uniform.pdf(x1,loc,scale)\n",
    "print(p1)\n",
    "plt.bar(np.arange(num)+0.5,uniform.pdf(x1,loc,scale),width = 0.4)\n",
    "plt.bar(np.arange(num),x[1,:],width = 0.4)\n",
    "plt.show()"
   ]
  },
  {
   "cell_type": "code",
   "execution_count": 5,
   "metadata": {},
   "outputs": [
    {
     "name": "stdout",
     "output_type": "stream",
     "text": [
      "0.544\n",
      "[ 0.  1.  2.  3.  4.  5.  6.  7.  8.  9. 10.]\n",
      "[1.77261030e-04 2.32616229e-03 1.38753540e-02 4.96591618e-02\n",
      " 1.18485018e-01 1.97890766e-01 2.36080212e-01 2.01171108e-01\n",
      " 1.19996801e-01 4.77180263e-02 1.13853536e-02]\n"
     ]
    },
    {
     "data": {
      "image/png": "[encoded data removed]",
      "text/plain": [
       "<Figure size 432x288 with 1 Axes>"
      ]
     },
     "metadata": {
      "needs_background": "light"
     },
     "output_type": "display_data"
    },
    {
     "name": "stdout",
     "output_type": "stream",
     "text": [
      "[1.77261030e-04 2.32616229e-03 1.38753540e-02 4.96591618e-02\n",
      " 1.18485018e-01 1.97890766e-01 2.36080212e-01 2.01171108e-01\n",
      " 1.19996801e-01 4.77180263e-02 1.13853536e-02]\n"
     ]
    }
   ],
   "source": [
    "#使用二项分布建模\n",
    "# 二项分布 E=np, D = np(1-p) \n",
    "# 本例中n指的是最大牙齿数，所以为num-1 ,也就是10\n",
    "# 先通过实际数据算出均值，进而求出概率p\n",
    "n2 = num-1\n",
    "mean2 = np.inner(np.arange(num),x[1,:]);\n",
    "# print(mean2)\n",
    "p2 = mean2 / (n2)\n",
    "print(p2)\n",
    "# x2 = np.arange(0,num) #11种可能出现的结果\n",
    "x2 = np.arange(binom.ppf(0.00001, num, p2),binom.ppf(1, num, p2))  #另一种模式\n",
    "print(x2)\n",
    "print(binom.pmf(x2,num,p2))\n",
    "\n",
    "plt.bar(np.arange(num)+0.6,binom.pmf(x2,num,p2),width = 0.4)\n",
    "plt.bar(np.arange(num)+0.3,uniform.pdf(x1,loc,scale),width = 0.4)\n",
    "plt.bar(np.arange(num),x[1,:],width = 0.4,label = 'true')\n",
    "plt.show()\n",
    "\n",
    "p2 = binom.pmf(x2,num,p2)\n",
    "print(p2)"
   ]
  },
  {
   "cell_type": "code",
   "execution_count": 10,
   "metadata": {},
   "outputs": [
    {
     "name": "stdout",
     "output_type": "stream",
     "text": [
      "scipy: 0.13667971094966938\n",
      "手动   0.13667971094966938\n",
      "scipy: 0.3809585322411612\n",
      "手动   0.382194070399698\n"
     ]
    }
   ],
   "source": [
    "#计算KL散度\n",
    "# 利用scipy API进行计算\n",
    "# scipy计算函数可以处理非归一化情况，因此这里使用\n",
    "# scipy.stats.entropy(x, y)或scipy.stats.entropy(px, py)均可\n",
    "\n",
    "KL = stats.entropy(p, p1) \n",
    "print('scipy:',KL)\n",
    "\n",
    "# 编程实现\n",
    "KL = 0.0\n",
    "for i in range(11):\n",
    "    KL += p[i] * np.log(p[i] / p1[i])\n",
    "    # print(str(px[i]) + ' ' + str(py[i]) + ' ' + str(px[i] * np.log(px[i] / py[i])))\n",
    "\n",
    "print('手动  ',KL)\n",
    "\n",
    "\n",
    "\n",
    "KL = stats.entropy(p, p2) \n",
    "print('scipy:',KL)\n",
    "KL = 0.0\n",
    "for i in range(11):\n",
    "    KL += p[i] * np.log(p[i] / p2[i])\n",
    "    # print(str(px[i]) + ' ' + str(py[i]) + ' ' + str(px[i] * np.log(px[i] / py[i])))\n",
    "\n",
    "print('手动  ',KL)"
   ]
  },
  {
   "cell_type": "code",
   "execution_count": 34,
   "metadata": {
    "scrolled": false
   },
   "outputs": [
    {
     "name": "stdout",
     "output_type": "stream",
     "text": [
      "0.13667971094966938\n",
      "0.0 0.0\n",
      "0.0 0.0\n",
      "0.0 0.0\n",
      "0.0 0.0\n",
      "0.0 0.0\n",
      "0.0 0.0\n",
      "0.0 0.0\n",
      "0.0 0.0\n",
      "0.0 0.0\n",
      "0.0 0.0\n",
      "0.0 0.0\n",
      "[-0.03028255 -0.03325988 -0.02989185  0.06044954  0.09045021  0.07511629\n",
      "  0.03331581 -0.01022667  0.00953102 -0.01022667 -0.01829553] 0.13667971094966938\n",
      "[0. 0. 0. 0. 0. 0. 0. 0. 0. 0. 0.]\n",
      "[0.02 0.03 0.05 0.14 0.16 0.15 0.12 0.08 0.1  0.08 0.07] [0.09090909 0.09090909 0.09090909 0.09090909 0.09090909 0.09090909\n",
      " 0.09090909 0.09090909 0.09090909 0.09090909 0.09090909]\n"
     ]
    }
   ],
   "source": [
    "# 编程实现\n",
    "KL1 = np.zeros(11)\n",
    "KL2 = np.zeros(11)\n",
    "p2= p1\n",
    "print(stats.entropy(p[0:11],p2[0:11]))\n",
    "for i in range(11):\n",
    "    KL1[i] = p[i] * np.log(p[i] / p2[i])\n",
    "    KL2[i] = stats.entropy(p[i],p2[i])\n",
    "    print(KL2[i],stats.entropy(p[i],p2[i]))\n",
    "    # print(str(px[i]) + ' ' + str(py[i]) + ' ' + str(px[i] * np.log(px[i] / py[i])))\n",
    "\n",
    "print(KL1,np.sum(KL1))\n",
    "print(KL2)\n",
    "print(p,p2)"
   ]
  }
 ],
 "metadata": {
  "kernelspec": {
   "display_name": "Python 3",
   "language": "python",
   "name": "python3"
  },
  "language_info": {
   "codemirror_mode": {
    "name": "ipython",
    "version": 3
   },
   "file_extension": ".py",
   "mimetype": "text/x-python",
   "name": "python",
   "nbconvert_exporter": "python",
   "pygments_lexer": "ipython3",
   "version": "3.6.9"
  }
 },
 "nbformat": 4,
 "nbformat_minor": 2
}
