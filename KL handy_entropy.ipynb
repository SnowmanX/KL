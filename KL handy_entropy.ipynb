{
 "cells": [
  {
   "cell_type": "code",
   "execution_count": null,
   "metadata": {
    "gradient": {
     "editing": false
    }
   },
   "outputs": [
    {
     "name": "stdout",
     "output_type": "stream",
     "text": [
      "[8, 7, 9, 4, 5, 3, 4, 9, 10, 2]\n",
      "61\n",
      "[0.13114754 0.1147541  0.14754098 0.06557377 0.08196721 0.04918033\n",
      " 0.06557377 0.14754098 0.16393443 0.03278689]\n",
      "[1, 8, 5, 9, 5, 1, 5, 5, 10, 7]\n",
      "56\n",
      "[0.01785714 0.14285714 0.08928571 0.16071429 0.08928571 0.01785714\n",
      " 0.08928571 0.08928571 0.17857143 0.125     ]\n",
      "scipy: 0.29046124315522504\n",
      "scipyp: 0.29046124315522504\n",
      "手动 0.29046124315522515\n"
     ]
    },
    {
     "data": {
      "text/plain": [
       "(array([2., 0., 0., 0., 4., 0., 1., 1., 1., 1.]),\n",
       " array([ 1. ,  1.9,  2.8,  3.7,  4.6,  5.5,  6.4,  7.3,  8.2,  9.1, 10. ]),\n",
       " <BarContainer object of 10 artists>)"
      ]
     },
     "execution_count": 4,
     "metadata": {},
     "output_type": "execute_result"
    },
    {
     "data": {
      "image/png": "[encoded data removed]",
      "text/plain": [
       "<Figure size 432x288 with 2 Axes>"
      ]
     },
     "metadata": {
      "needs_background": "light"
     },
     "output_type": "display_data"
    }
   ],
   "source": [
    "import numpy as np\n",
    "import scipy.stats\n",
    "import matplotlib.pyplot as plt\n",
    "# 随机生成两个离散型分布\n",
    "# x、y出现事件的次数，除以求和即为 px、py概率\n",
    "x = [np.random.randint(1, 11) for i in range(10)]\n",
    "print(x)\n",
    "print(np.sum(x))\n",
    "px = x / np.sum(x)\n",
    "print(px)\n",
    "y = [np.random.randint(1, 11) for i in range(10)]\n",
    "print(y)\n",
    "print(np.sum(y))\n",
    "py = y / np.sum(y)\n",
    "print(py)\n",
    "\n",
    "# 利用scipy API进行计算\n",
    "# scipy计算函数可以处理非归一化情况，因此这里使用\n",
    "# scipy.stats.entropy(x, y)或scipy.stats.entropy(px, py)均可\n",
    "KL = scipy.stats.entropy(x, y) \n",
    "print('scipy:',KL)\n",
    "KLp = scipy.stats.entropy(px, py) \n",
    "print('scipyp:',KLp)\n",
    "# 编程实现\n",
    "KL = 0.0\n",
    "for i in range(10):\n",
    "    KL += px[i] * np.log(px[i] / py[i])\n",
    "    # print(str(px[i]) + ' ' + str(py[i]) + ' ' + str(px[i] * np.log(px[i] / py[i])))\n",
    "\n",
    "print('手动',KL)\n",
    "\n",
    "plt.subplot(121)\n",
    "plt.hist(x)\n",
    "plt.subplot(122)\n",
    "plt.hist(y)"
   ]
  },
  {
   "cell_type": "code",
   "execution_count": null,
   "metadata": {
    "gradient": {
     "editing": false
    }
   },
   "outputs": [],
   "source": []
  }
 ],
 "metadata": {
  "kernelspec": {
   "display_name": "Python 3",
   "language": "python",
   "name": "python3"
  },
  "language_info": {
   "codemirror_mode": {
    "name": "ipython",
    "version": 3
   },
   "file_extension": ".py",
   "mimetype": "text/x-python",
   "name": "python",
   "nbconvert_exporter": "python",
   "pygments_lexer": "ipython3",
   "version": "3.6.9"
  }
 },
 "nbformat": 4,
 "nbformat_minor": 2
}
